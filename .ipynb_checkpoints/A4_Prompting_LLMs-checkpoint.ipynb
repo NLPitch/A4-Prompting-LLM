{
 "cells": [
  {
   "cell_type": "code",
   "execution_count": 1,
   "id": "thrown-hotel",
   "metadata": {},
   "outputs": [
    {
     "name": "stdout",
     "output_type": "stream",
     "text": [
      "Tue Apr  2 11:26:27 2024       \n",
      "+-----------------------------------------------------------------------------+\n",
      "| NVIDIA-SMI 470.103.01   Driver Version: 470.103.01   CUDA Version: 11.4     |\n",
      "|-------------------------------+----------------------+----------------------+\n",
      "| GPU  Name        Persistence-M| Bus-Id        Disp.A | Volatile Uncorr. ECC |\n",
      "| Fan  Temp  Perf  Pwr:Usage/Cap|         Memory-Usage | GPU-Util  Compute M. |\n",
      "|                               |                      |               MIG M. |\n",
      "|===============================+======================+======================|\n",
      "|   0  NVIDIA A40          On   | 00000000:CD:00.0 Off |                    0 |\n",
      "|  0%   28C    P8    29W / 300W |      0MiB / 45634MiB |      0%      Default |\n",
      "|                               |                      |                  N/A |\n",
      "+-------------------------------+----------------------+----------------------+\n",
      "                                                                               \n",
      "+-----------------------------------------------------------------------------+\n",
      "| Processes:                                                                  |\n",
      "|  GPU   GI   CI        PID   Type   Process name                  GPU Memory |\n",
      "|        ID   ID                                                   Usage      |\n",
      "|=============================================================================|\n",
      "|  No running processes found                                                 |\n",
      "+-----------------------------------------------------------------------------+\n"
     ]
    }
   ],
   "source": [
    "!nvidia-smi"
   ]
  },
  {
   "cell_type": "code",
   "execution_count": 2,
   "id": "guilty-islam",
   "metadata": {},
   "outputs": [
    {
     "data": {
      "text/plain": [
       "'2.1.2+cu118'"
      ]
     },
     "execution_count": 2,
     "metadata": {},
     "output_type": "execute_result"
    }
   ],
   "source": [
    "import torch\n",
    "\n",
    "torch.__version__"
   ]
  },
  {
   "cell_type": "code",
   "execution_count": 3,
   "id": "distinguished-protest",
   "metadata": {},
   "outputs": [
    {
     "name": "stdout",
     "output_type": "stream",
     "text": [
      "Defaulting to user installation because normal site-packages is not writeable\n",
      "\u001b[33mWARNING: Ignoring invalid distribution -orch (/panfs/jay/groups/28/yaoyi/pyo00005/.local/lib/python3.8/site-packages)\u001b[0m\u001b[33m\n",
      "\u001b[0m\u001b[33mWARNING: Ignoring invalid distribution -orch (/panfs/jay/groups/28/yaoyi/pyo00005/.local/lib/python3.8/site-packages)\u001b[0m\u001b[33m\n",
      "\u001b[0mRequirement already satisfied: transformers in /panfs/jay/groups/28/yaoyi/pyo00005/.local/lib/python3.8/site-packages (4.33.3)\n",
      "Requirement already satisfied: datasets in /panfs/jay/groups/28/yaoyi/pyo00005/.local/lib/python3.8/site-packages (2.16.1)\n",
      "Requirement already satisfied: evaluate in /panfs/jay/groups/28/yaoyi/pyo00005/.local/lib/python3.8/site-packages (0.4.1)\n",
      "Requirement already satisfied: scikit-learn in /panfs/jay/groups/28/yaoyi/pyo00005/.local/lib/python3.8/site-packages (1.3.1)\n",
      "Requirement already satisfied: filelock in /panfs/jay/groups/28/yaoyi/pyo00005/.local/lib/python3.8/site-packages (from transformers) (3.13.1)\n",
      "Requirement already satisfied: huggingface-hub<1.0,>=0.15.1 in /panfs/jay/groups/28/yaoyi/pyo00005/.local/lib/python3.8/site-packages (from transformers) (0.20.3)\n",
      "Requirement already satisfied: numpy>=1.17 in /panfs/jay/groups/28/yaoyi/pyo00005/.local/lib/python3.8/site-packages (from transformers) (1.22.1)\n",
      "Requirement already satisfied: packaging>=20.0 in /panfs/jay/groups/28/yaoyi/pyo00005/.local/lib/python3.8/site-packages (from transformers) (23.2)\n",
      "Requirement already satisfied: pyyaml>=5.1 in /panfs/jay/groups/28/yaoyi/pyo00005/.local/lib/python3.8/site-packages (from transformers) (6.0.1)\n",
      "Requirement already satisfied: regex!=2019.12.17 in /panfs/jay/groups/28/yaoyi/pyo00005/.local/lib/python3.8/site-packages (from transformers) (2023.10.3)\n",
      "Requirement already satisfied: requests in /common/software/install/migrated/anaconda/miniconda3_4.8.3-jupyter/lib/python3.8/site-packages (from transformers) (2.23.0)\n",
      "Requirement already satisfied: tokenizers!=0.11.3,<0.14,>=0.11.1 in /panfs/jay/groups/28/yaoyi/pyo00005/.local/lib/python3.8/site-packages (from transformers) (0.13.3)\n",
      "Requirement already satisfied: safetensors>=0.3.1 in /panfs/jay/groups/28/yaoyi/pyo00005/.local/lib/python3.8/site-packages (from transformers) (0.3.3)\n",
      "Requirement already satisfied: tqdm>=4.27 in /panfs/jay/groups/28/yaoyi/pyo00005/.local/lib/python3.8/site-packages (from transformers) (4.66.1)\n",
      "Requirement already satisfied: pyarrow>=8.0.0 in /panfs/jay/groups/28/yaoyi/pyo00005/.local/lib/python3.8/site-packages (from datasets) (14.0.1)\n",
      "Requirement already satisfied: pyarrow-hotfix in /panfs/jay/groups/28/yaoyi/pyo00005/.local/lib/python3.8/site-packages (from datasets) (0.6)\n",
      "Requirement already satisfied: dill<0.3.8,>=0.3.0 in /panfs/jay/groups/28/yaoyi/pyo00005/.local/lib/python3.8/site-packages (from datasets) (0.3.7)\n",
      "Requirement already satisfied: pandas in /panfs/jay/groups/28/yaoyi/pyo00005/.local/lib/python3.8/site-packages (from datasets) (2.0.3)\n",
      "Requirement already satisfied: xxhash in /panfs/jay/groups/28/yaoyi/pyo00005/.local/lib/python3.8/site-packages (from datasets) (3.4.1)\n",
      "Requirement already satisfied: multiprocess in /panfs/jay/groups/28/yaoyi/pyo00005/.local/lib/python3.8/site-packages (from datasets) (0.70.15)\n",
      "Requirement already satisfied: fsspec<=2023.10.0,>=2023.1.0 in /panfs/jay/groups/28/yaoyi/pyo00005/.local/lib/python3.8/site-packages (from fsspec[http]<=2023.10.0,>=2023.1.0->datasets) (2023.10.0)\n",
      "Requirement already satisfied: aiohttp in /panfs/jay/groups/28/yaoyi/pyo00005/.local/lib/python3.8/site-packages (from datasets) (3.9.3)\n",
      "Requirement already satisfied: responses<0.19 in /panfs/jay/groups/28/yaoyi/pyo00005/.local/lib/python3.8/site-packages (from evaluate) (0.18.0)\n",
      "Requirement already satisfied: scipy>=1.5.0 in /panfs/jay/groups/28/yaoyi/pyo00005/.local/lib/python3.8/site-packages (from scikit-learn) (1.10.1)\n",
      "Requirement already satisfied: joblib>=1.1.1 in /panfs/jay/groups/28/yaoyi/pyo00005/.local/lib/python3.8/site-packages (from scikit-learn) (1.3.2)\n",
      "Requirement already satisfied: threadpoolctl>=2.0.0 in /panfs/jay/groups/28/yaoyi/pyo00005/.local/lib/python3.8/site-packages (from scikit-learn) (3.2.0)\n",
      "Requirement already satisfied: aiosignal>=1.1.2 in /panfs/jay/groups/28/yaoyi/pyo00005/.local/lib/python3.8/site-packages (from aiohttp->datasets) (1.3.1)\n",
      "Requirement already satisfied: attrs>=17.3.0 in /common/software/install/migrated/anaconda/miniconda3_4.8.3-jupyter/lib/python3.8/site-packages (from aiohttp->datasets) (20.3.0)\n",
      "Requirement already satisfied: frozenlist>=1.1.1 in /panfs/jay/groups/28/yaoyi/pyo00005/.local/lib/python3.8/site-packages (from aiohttp->datasets) (1.4.1)\n",
      "Requirement already satisfied: multidict<7.0,>=4.5 in /panfs/jay/groups/28/yaoyi/pyo00005/.local/lib/python3.8/site-packages (from aiohttp->datasets) (6.0.5)\n",
      "Requirement already satisfied: yarl<2.0,>=1.0 in /panfs/jay/groups/28/yaoyi/pyo00005/.local/lib/python3.8/site-packages (from aiohttp->datasets) (1.9.4)\n",
      "Requirement already satisfied: async-timeout<5.0,>=4.0 in /panfs/jay/groups/28/yaoyi/pyo00005/.local/lib/python3.8/site-packages (from aiohttp->datasets) (4.0.3)\n",
      "Requirement already satisfied: typing-extensions>=3.7.4.3 in /panfs/jay/groups/28/yaoyi/pyo00005/.local/lib/python3.8/site-packages (from huggingface-hub<1.0,>=0.15.1->transformers) (4.9.0)\n",
      "Requirement already satisfied: chardet<4,>=3.0.2 in /common/software/install/migrated/anaconda/miniconda3_4.8.3-jupyter/lib/python3.8/site-packages (from requests->transformers) (3.0.4)\n",
      "Requirement already satisfied: idna<3,>=2.5 in /common/software/install/migrated/anaconda/miniconda3_4.8.3-jupyter/lib/python3.8/site-packages (from requests->transformers) (2.9)\n",
      "Requirement already satisfied: urllib3!=1.25.0,!=1.25.1,<1.26,>=1.21.1 in /panfs/jay/groups/28/yaoyi/pyo00005/.local/lib/python3.8/site-packages (from requests->transformers) (1.25.11)\n",
      "Requirement already satisfied: certifi>=2017.4.17 in /common/software/install/migrated/anaconda/miniconda3_4.8.3-jupyter/lib/python3.8/site-packages (from requests->transformers) (2020.12.5)\n",
      "Requirement already satisfied: python-dateutil>=2.8.2 in /panfs/jay/groups/28/yaoyi/pyo00005/.local/lib/python3.8/site-packages (from pandas->datasets) (2.8.2)\n",
      "Requirement already satisfied: pytz>=2020.1 in /panfs/jay/groups/28/yaoyi/pyo00005/.local/lib/python3.8/site-packages (from pandas->datasets) (2023.3.post1)\n",
      "Requirement already satisfied: tzdata>=2022.1 in /panfs/jay/groups/28/yaoyi/pyo00005/.local/lib/python3.8/site-packages (from pandas->datasets) (2023.3)\n",
      "Requirement already satisfied: six>=1.5 in /common/software/install/migrated/anaconda/miniconda3_4.8.3-jupyter/lib/python3.8/site-packages (from python-dateutil>=2.8.2->pandas->datasets) (1.14.0)\n",
      "\u001b[33mWARNING: Ignoring invalid distribution -orch (/panfs/jay/groups/28/yaoyi/pyo00005/.local/lib/python3.8/site-packages)\u001b[0m\u001b[33m\n",
      "\u001b[0m\u001b[33mWARNING: Ignoring invalid distribution -orch (/panfs/jay/groups/28/yaoyi/pyo00005/.local/lib/python3.8/site-packages)\u001b[0m\u001b[33m\n",
      "\u001b[0mDefaulting to user installation because normal site-packages is not writeable\n",
      "\u001b[33mWARNING: Ignoring invalid distribution -orch (/panfs/jay/groups/28/yaoyi/pyo00005/.local/lib/python3.8/site-packages)\u001b[0m\u001b[33m\n",
      "\u001b[0m\u001b[33mWARNING: Ignoring invalid distribution -orch (/panfs/jay/groups/28/yaoyi/pyo00005/.local/lib/python3.8/site-packages)\u001b[0m\u001b[33m\n",
      "\u001b[0mRequirement already satisfied: accelerate in /panfs/jay/groups/28/yaoyi/pyo00005/.local/lib/python3.8/site-packages (0.27.2)\n",
      "Collecting accelerate\n",
      "  Using cached accelerate-0.28.0-py3-none-any.whl.metadata (18 kB)\n",
      "Requirement already satisfied: numpy>=1.17 in /panfs/jay/groups/28/yaoyi/pyo00005/.local/lib/python3.8/site-packages (from accelerate) (1.22.1)\n",
      "Requirement already satisfied: packaging>=20.0 in /panfs/jay/groups/28/yaoyi/pyo00005/.local/lib/python3.8/site-packages (from accelerate) (23.2)\n",
      "Requirement already satisfied: psutil in /panfs/jay/groups/28/yaoyi/pyo00005/.local/lib/python3.8/site-packages (from accelerate) (5.9.8)\n",
      "Requirement already satisfied: pyyaml in /panfs/jay/groups/28/yaoyi/pyo00005/.local/lib/python3.8/site-packages (from accelerate) (6.0.1)\n",
      "Requirement already satisfied: torch>=1.10.0 in /panfs/jay/groups/28/yaoyi/pyo00005/.local/lib/python3.8/site-packages (from accelerate) (2.1.2+cu118)\n",
      "Requirement already satisfied: huggingface-hub in /panfs/jay/groups/28/yaoyi/pyo00005/.local/lib/python3.8/site-packages (from accelerate) (0.20.3)\n",
      "Requirement already satisfied: safetensors>=0.3.1 in /panfs/jay/groups/28/yaoyi/pyo00005/.local/lib/python3.8/site-packages (from accelerate) (0.3.3)\n"
     ]
    },
    {
     "name": "stdout",
     "output_type": "stream",
     "text": [
      "Requirement already satisfied: filelock in /panfs/jay/groups/28/yaoyi/pyo00005/.local/lib/python3.8/site-packages (from torch>=1.10.0->accelerate) (3.13.1)\n",
      "Requirement already satisfied: typing-extensions in /panfs/jay/groups/28/yaoyi/pyo00005/.local/lib/python3.8/site-packages (from torch>=1.10.0->accelerate) (4.9.0)\n",
      "Requirement already satisfied: sympy in /panfs/jay/groups/28/yaoyi/pyo00005/.local/lib/python3.8/site-packages (from torch>=1.10.0->accelerate) (1.12)\n",
      "Requirement already satisfied: networkx in /panfs/jay/groups/28/yaoyi/pyo00005/.local/lib/python3.8/site-packages (from torch>=1.10.0->accelerate) (3.1)\n",
      "Requirement already satisfied: jinja2 in /common/software/install/migrated/anaconda/miniconda3_4.8.3-jupyter/lib/python3.8/site-packages (from torch>=1.10.0->accelerate) (2.11.2)\n",
      "Requirement already satisfied: fsspec in /panfs/jay/groups/28/yaoyi/pyo00005/.local/lib/python3.8/site-packages (from torch>=1.10.0->accelerate) (2023.10.0)\n",
      "Requirement already satisfied: triton==2.1.0 in /panfs/jay/groups/28/yaoyi/pyo00005/.local/lib/python3.8/site-packages (from torch>=1.10.0->accelerate) (2.1.0)\n",
      "Requirement already satisfied: requests in /common/software/install/migrated/anaconda/miniconda3_4.8.3-jupyter/lib/python3.8/site-packages (from huggingface-hub->accelerate) (2.23.0)\n",
      "Requirement already satisfied: tqdm>=4.42.1 in /panfs/jay/groups/28/yaoyi/pyo00005/.local/lib/python3.8/site-packages (from huggingface-hub->accelerate) (4.66.1)\n",
      "Requirement already satisfied: MarkupSafe>=0.23 in /common/software/install/migrated/anaconda/miniconda3_4.8.3-jupyter/lib/python3.8/site-packages (from jinja2->torch>=1.10.0->accelerate) (1.1.1)\n",
      "Requirement already satisfied: chardet<4,>=3.0.2 in /common/software/install/migrated/anaconda/miniconda3_4.8.3-jupyter/lib/python3.8/site-packages (from requests->huggingface-hub->accelerate) (3.0.4)\n",
      "Requirement already satisfied: idna<3,>=2.5 in /common/software/install/migrated/anaconda/miniconda3_4.8.3-jupyter/lib/python3.8/site-packages (from requests->huggingface-hub->accelerate) (2.9)\n",
      "Requirement already satisfied: urllib3!=1.25.0,!=1.25.1,<1.26,>=1.21.1 in /panfs/jay/groups/28/yaoyi/pyo00005/.local/lib/python3.8/site-packages (from requests->huggingface-hub->accelerate) (1.25.11)\n",
      "Requirement already satisfied: certifi>=2017.4.17 in /common/software/install/migrated/anaconda/miniconda3_4.8.3-jupyter/lib/python3.8/site-packages (from requests->huggingface-hub->accelerate) (2020.12.5)\n",
      "Requirement already satisfied: mpmath>=0.19 in /panfs/jay/groups/28/yaoyi/pyo00005/.local/lib/python3.8/site-packages (from sympy->torch>=1.10.0->accelerate) (1.3.0)\n",
      "Using cached accelerate-0.28.0-py3-none-any.whl (290 kB)\n",
      "\u001b[33mWARNING: Ignoring invalid distribution -orch (/panfs/jay/groups/28/yaoyi/pyo00005/.local/lib/python3.8/site-packages)\u001b[0m\u001b[33m\n",
      "\u001b[0mInstalling collected packages: accelerate\n",
      "  Attempting uninstall: accelerate\n",
      "    Found existing installation: accelerate 0.27.2\n",
      "    Uninstalling accelerate-0.27.2:\n",
      "      Successfully uninstalled accelerate-0.27.2\n",
      "Successfully installed accelerate-0.28.0\n",
      "\u001b[33mWARNING: Ignoring invalid distribution -orch (/panfs/jay/groups/28/yaoyi/pyo00005/.local/lib/python3.8/site-packages)\u001b[0m\u001b[33m\n",
      "\u001b[0mDefaulting to user installation because normal site-packages is not writeable\n",
      "\u001b[33mWARNING: Ignoring invalid distribution -orch (/panfs/jay/groups/28/yaoyi/pyo00005/.local/lib/python3.8/site-packages)\u001b[0m\u001b[33m\n",
      "\u001b[0m\u001b[33mWARNING: Ignoring invalid distribution -orch (/panfs/jay/groups/28/yaoyi/pyo00005/.local/lib/python3.8/site-packages)\u001b[0m\u001b[33m\n",
      "\u001b[0mRequirement already satisfied: pandas in /panfs/jay/groups/28/yaoyi/pyo00005/.local/lib/python3.8/site-packages (2.0.3)\n",
      "Requirement already satisfied: polars in /panfs/jay/groups/28/yaoyi/pyo00005/.local/lib/python3.8/site-packages (0.19.19)\n",
      "Requirement already satisfied: pickle5 in /panfs/jay/groups/28/yaoyi/pyo00005/.local/lib/python3.8/site-packages (0.0.11)\n",
      "Requirement already satisfied: tabulate in /panfs/jay/groups/28/yaoyi/pyo00005/.local/lib/python3.8/site-packages (0.9.0)\n",
      "Requirement already satisfied: python-dateutil>=2.8.2 in /panfs/jay/groups/28/yaoyi/pyo00005/.local/lib/python3.8/site-packages (from pandas) (2.8.2)\n",
      "Requirement already satisfied: pytz>=2020.1 in /panfs/jay/groups/28/yaoyi/pyo00005/.local/lib/python3.8/site-packages (from pandas) (2023.3.post1)\n",
      "Requirement already satisfied: tzdata>=2022.1 in /panfs/jay/groups/28/yaoyi/pyo00005/.local/lib/python3.8/site-packages (from pandas) (2023.3)\n",
      "Requirement already satisfied: numpy>=1.20.3 in /panfs/jay/groups/28/yaoyi/pyo00005/.local/lib/python3.8/site-packages (from pandas) (1.22.1)\n",
      "Requirement already satisfied: six>=1.5 in /common/software/install/migrated/anaconda/miniconda3_4.8.3-jupyter/lib/python3.8/site-packages (from python-dateutil>=2.8.2->pandas) (1.14.0)\n",
      "\u001b[33mWARNING: Ignoring invalid distribution -orch (/panfs/jay/groups/28/yaoyi/pyo00005/.local/lib/python3.8/site-packages)\u001b[0m\u001b[33m\n",
      "\u001b[0m\u001b[33mWARNING: Ignoring invalid distribution -orch (/panfs/jay/groups/28/yaoyi/pyo00005/.local/lib/python3.8/site-packages)\u001b[0m\u001b[33m\n",
      "\u001b[0mDefaulting to user installation because normal site-packages is not writeable\n",
      "\u001b[33mWARNING: Ignoring invalid distribution -orch (/panfs/jay/groups/28/yaoyi/pyo00005/.local/lib/python3.8/site-packages)\u001b[0m\u001b[33m\n",
      "\u001b[0m\u001b[33mWARNING: Ignoring invalid distribution -orch (/panfs/jay/groups/28/yaoyi/pyo00005/.local/lib/python3.8/site-packages)\u001b[0m\u001b[33m\n",
      "\u001b[0mRequirement already satisfied: wandb in /panfs/jay/groups/28/yaoyi/pyo00005/.local/lib/python3.8/site-packages (0.16.3)\n",
      "Requirement already satisfied: tqdm in /panfs/jay/groups/28/yaoyi/pyo00005/.local/lib/python3.8/site-packages (4.66.1)\n",
      "Requirement already satisfied: Click!=8.0.0,>=7.1 in /panfs/jay/groups/28/yaoyi/pyo00005/.local/lib/python3.8/site-packages (from wandb) (8.1.7)\n",
      "Requirement already satisfied: GitPython!=3.1.29,>=1.0.0 in /panfs/jay/groups/28/yaoyi/pyo00005/.local/lib/python3.8/site-packages (from wandb) (3.1.41)\n",
      "Requirement already satisfied: requests<3,>=2.0.0 in /common/software/install/migrated/anaconda/miniconda3_4.8.3-jupyter/lib/python3.8/site-packages (from wandb) (2.23.0)\n",
      "Requirement already satisfied: psutil>=5.0.0 in /panfs/jay/groups/28/yaoyi/pyo00005/.local/lib/python3.8/site-packages (from wandb) (5.9.8)\n",
      "Requirement already satisfied: sentry-sdk>=1.0.0 in /panfs/jay/groups/28/yaoyi/pyo00005/.local/lib/python3.8/site-packages (from wandb) (1.9.0)\n",
      "Requirement already satisfied: docker-pycreds>=0.4.0 in /panfs/jay/groups/28/yaoyi/pyo00005/.local/lib/python3.8/site-packages (from wandb) (0.4.0)\n",
      "Requirement already satisfied: PyYAML in /panfs/jay/groups/28/yaoyi/pyo00005/.local/lib/python3.8/site-packages (from wandb) (6.0.1)\n",
      "Requirement already satisfied: setproctitle in /panfs/jay/groups/28/yaoyi/pyo00005/.local/lib/python3.8/site-packages (from wandb) (1.3.3)\n",
      "Requirement already satisfied: setuptools in /common/software/install/migrated/anaconda/miniconda3_4.8.3-jupyter/lib/python3.8/site-packages (from wandb) (46.4.0.post20200518)\n",
      "Requirement already satisfied: appdirs>=1.4.3 in /panfs/jay/groups/28/yaoyi/pyo00005/.local/lib/python3.8/site-packages (from wandb) (1.4.4)\n",
      "Requirement already satisfied: typing-extensions in /panfs/jay/groups/28/yaoyi/pyo00005/.local/lib/python3.8/site-packages (from wandb) (4.9.0)\n",
      "Requirement already satisfied: protobuf!=4.21.0,<5,>=3.12.0 in /panfs/jay/groups/28/yaoyi/pyo00005/.local/lib/python3.8/site-packages (from wandb) (4.24.3)\n",
      "Requirement already satisfied: six>=1.4.0 in /common/software/install/migrated/anaconda/miniconda3_4.8.3-jupyter/lib/python3.8/site-packages (from docker-pycreds>=0.4.0->wandb) (1.14.0)\n",
      "Requirement already satisfied: gitdb<5,>=4.0.1 in /panfs/jay/groups/28/yaoyi/pyo00005/.local/lib/python3.8/site-packages (from GitPython!=3.1.29,>=1.0.0->wandb) (4.0.11)\n",
      "Requirement already satisfied: chardet<4,>=3.0.2 in /common/software/install/migrated/anaconda/miniconda3_4.8.3-jupyter/lib/python3.8/site-packages (from requests<3,>=2.0.0->wandb) (3.0.4)\n",
      "Requirement already satisfied: idna<3,>=2.5 in /common/software/install/migrated/anaconda/miniconda3_4.8.3-jupyter/lib/python3.8/site-packages (from requests<3,>=2.0.0->wandb) (2.9)\n",
      "Requirement already satisfied: urllib3!=1.25.0,!=1.25.1,<1.26,>=1.21.1 in /panfs/jay/groups/28/yaoyi/pyo00005/.local/lib/python3.8/site-packages (from requests<3,>=2.0.0->wandb) (1.25.11)\n",
      "Requirement already satisfied: certifi>=2017.4.17 in /common/software/install/migrated/anaconda/miniconda3_4.8.3-jupyter/lib/python3.8/site-packages (from requests<3,>=2.0.0->wandb) (2020.12.5)\n"
     ]
    },
    {
     "name": "stdout",
     "output_type": "stream",
     "text": [
      "Requirement already satisfied: smmap<6,>=3.0.1 in /panfs/jay/groups/28/yaoyi/pyo00005/.local/lib/python3.8/site-packages (from gitdb<5,>=4.0.1->GitPython!=3.1.29,>=1.0.0->wandb) (5.0.1)\n",
      "\u001b[33mWARNING: Ignoring invalid distribution -orch (/panfs/jay/groups/28/yaoyi/pyo00005/.local/lib/python3.8/site-packages)\u001b[0m\u001b[33m\n",
      "\u001b[0m\u001b[33mWARNING: Ignoring invalid distribution -orch (/panfs/jay/groups/28/yaoyi/pyo00005/.local/lib/python3.8/site-packages)\u001b[0m\u001b[33m\n",
      "\u001b[0m"
     ]
    }
   ],
   "source": [
    "# Installing necessary libraries\n",
    "\n",
    "!pip install transformers datasets evaluate scikit-learn\n",
    "!pip install accelerate -U\n",
    "!pip install pandas polars pickle5 tabulate\n",
    "!pip install wandb tqdm"
   ]
  },
  {
   "cell_type": "code",
   "execution_count": 4,
   "id": "acknowledged-boxing",
   "metadata": {},
   "outputs": [
    {
     "name": "stdout",
     "output_type": "stream",
     "text": [
      "cuda:0\n"
     ]
    }
   ],
   "source": [
    "# Checking if system is running on cuda\n",
    "\n",
    "if torch.cuda.is_available():\n",
    "  device = torch.device(\"cuda:0\")\n",
    "else:\n",
    "  device = torch.device(\"cpu\")\n",
    "\n",
    "print(device)"
   ]
  },
  {
   "cell_type": "code",
   "execution_count": null,
   "id": "binding-adjustment",
   "metadata": {},
   "outputs": [],
   "source": []
  },
  {
   "cell_type": "markdown",
   "id": "round-variety",
   "metadata": {},
   "source": [
    "Convert Dataframe to JSON"
   ]
  },
  {
   "cell_type": "code",
   "execution_count": 7,
   "id": "entire-upgrade",
   "metadata": {},
   "outputs": [
    {
     "name": "stdout",
     "output_type": "stream",
     "text": [
      "shape: (3, 2)\n",
      "┌─────┬─────┐\n",
      "│ a   ┆ b   │\n",
      "│ --- ┆ --- │\n",
      "│ i64 ┆ i64 │\n",
      "╞═════╪═════╡\n",
      "│ 1   ┆ 4   │\n",
      "│ 2   ┆ 5   │\n",
      "│ 3   ┆ 6   │\n",
      "└─────┴─────┘\n"
     ]
    }
   ],
   "source": [
    "# Dummy dataframe REPLACE THE DATAFRAME NAME IF NECESSARY\n",
    "import polars as pl\n",
    "\n",
    "pl_df = pl.DataFrame({'a': [1, 2, 3], 'b':[4, 5, 6]})\n",
    "pd_df = pd.DataFrame()\n",
    "print(df)"
   ]
  },
  {
   "cell_type": "code",
   "execution_count": 9,
   "id": "marked-providence",
   "metadata": {},
   "outputs": [],
   "source": [
    "import json\n",
    "\n",
    "# Version for Polars\n",
    "data = df.write_json(pretty=True, row_oriented=True)"
   ]
  },
  {
   "cell_type": "code",
   "execution_count": 11,
   "id": "fossil-admission",
   "metadata": {},
   "outputs": [],
   "source": [
    "with open('./csci5541-s24-hw4-NLPitch-3{a/b}.json', 'w') as f:\n",
    "    json.dump(data, f, indent=4, default=str)"
   ]
  },
  {
   "cell_type": "code",
   "execution_count": null,
   "id": "saving-scanner",
   "metadata": {},
   "outputs": [],
   "source": []
  }
 ],
 "metadata": {
  "kernelspec": {
   "display_name": "Python3.8.3",
   "language": "python",
   "name": "python3.8.3"
  },
  "language_info": {
   "codemirror_mode": {
    "name": "ipython",
    "version": 3
   },
   "file_extension": ".py",
   "mimetype": "text/x-python",
   "name": "python",
   "nbconvert_exporter": "python",
   "pygments_lexer": "ipython3",
   "version": "3.8.3"
  }
 },
 "nbformat": 4,
 "nbformat_minor": 5
}
